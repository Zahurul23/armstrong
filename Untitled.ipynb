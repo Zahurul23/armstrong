{
  "nbformat": 4,
  "nbformat_minor": 0,
  "metadata": {
    "colab": {
      "name": "Untitled",
      "provenance": []
    },
    "kernelspec": {
      "name": "python3",
      "display_name": "Python 3"
    },
    "language_info": {
      "name": "python"
    }
  },
  "cells": [
    {
      "cell_type": "code",
      "metadata": {
        "id": "OeIPSMbouDsZ",
        "colab": {
          "base_uri": "https://localhost:8080/",
          "height": 130
        },
        "outputId": "93566746-7575-46ee-d39b-ba205443c71e"
      },
      "source": [
        "um = input(\"Please, enter a positive number: \")\n",
        "  if not num.strip().isdigit():\n",
        "      print(\"It is an invalid entry. Don't use non-numeric, float, or negative values!\")\n",
        "    elif int(num) >= 0:\n",
        "    num2 = 0\n",
        "     for i in num:\n",
        "    num2 += int(i) ** len(num)\n",
        "     if num2 == int(num) :\n",
        "    print(\"{} is an Armstrong number.\".format(num))\n",
        "     else:\n",
        "    print(\"{} is not an Armstrong number.\".format(num))\n",
        "     else:\n",
        "       print(\"It is an invalid entry. Don't use non-numeric, float, or negative values!\")\n",
        "# this is the armstrong number code"
      ],
      "execution_count": null,
      "outputs": [
        {
          "output_type": "error",
          "ename": "IndentationError",
          "evalue": "ignored",
          "traceback": [
            "\u001b[0;36m  File \u001b[0;32m\"<ipython-input-7-d01561307621>\"\u001b[0;36m, line \u001b[0;32m2\u001b[0m\n\u001b[0;31m    if not num.strip().isdigit():\u001b[0m\n\u001b[0m    ^\u001b[0m\n\u001b[0;31mIndentationError\u001b[0m\u001b[0;31m:\u001b[0m unexpected indent\n"
          ]
        }
      ]
    }
  ]
}